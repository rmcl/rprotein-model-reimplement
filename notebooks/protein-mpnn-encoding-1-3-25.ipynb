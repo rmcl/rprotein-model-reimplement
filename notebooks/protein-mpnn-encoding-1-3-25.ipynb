{
 "cells": [
  {
   "cell_type": "code",
   "execution_count": null,
   "metadata": {},
   "outputs": [],
   "source": [
    "%load_ext autoreload\n",
    "%autoreload 2"
   ]
  },
  {
   "cell_type": "code",
   "execution_count": 1,
   "metadata": {},
   "outputs": [
    {
     "name": "stdout",
     "output_type": "stream",
     "text": [
      "tensor([0, 1], dtype=torch.int32)\n",
      "tensor([0, 1], dtype=torch.int32)\n",
      "tensor([0, 1, 2, 3], dtype=torch.int32)\n",
      "tensor([0, 1, 2, 3], dtype=torch.int32)\n",
      "tensor([0, 1, 2, 3], dtype=torch.int32)\n",
      "tensor([0, 1, 2, 3], dtype=torch.int32)\n",
      "tensor([0, 1], dtype=torch.int32)\n",
      "tensor([0, 1], dtype=torch.int32)\n",
      "tensor([0, 1, 2, 3, 4, 5], dtype=torch.int32)\n",
      "tensor([0, 1, 2, 3, 4, 5], dtype=torch.int32)\n",
      "tensor([0, 1, 2, 3, 4, 5], dtype=torch.int32)\n",
      "tensor([0, 1, 2, 3, 4, 5], dtype=torch.int32)\n",
      "tensor([0, 1, 2, 3, 4, 5], dtype=torch.int32)\n",
      "tensor([0, 1, 2, 3, 4, 5], dtype=torch.int32)\n"
     ]
    },
    {
     "name": "stderr",
     "output_type": "stream",
     "text": [
      "/Users/rmcl/Documents/PhD/development/protein-mpnn-explore/notebooks/../russell_protein/protein_mpnn/dataset.py:138: FutureWarning: You are using `torch.load` with `weights_only=False` (the current default value), which uses the default pickle module implicitly. It is possible to construct malicious pickle data which will execute arbitrary code during unpickling (See https://github.com/pytorch/pytorch/blob/main/SECURITY.md#untrusted-models for more details). In a future release, the default value for `weights_only` will be flipped to `True`. This limits the functions that could be executed during unpickling. Arbitrary objects will no longer be allowed to be loaded via this mode unless they are explicitly allowlisted by the user via `torch.serialization.add_safe_globals`. We recommend you start setting `weights_only=True` for any use case where you don't have full control of the loaded file. Please open an issue on GitHub for any issues related to this experimental feature.\n",
      "  meta = torch.load(structure_metadata_path)\n",
      "/Users/rmcl/Documents/PhD/development/protein-mpnn-explore/notebooks/../russell_protein/protein_mpnn/dataset.py:321: FutureWarning: You are using `torch.load` with `weights_only=False` (the current default value), which uses the default pickle module implicitly. It is possible to construct malicious pickle data which will execute arbitrary code during unpickling (See https://github.com/pytorch/pytorch/blob/main/SECURITY.md#untrusted-models for more details). In a future release, the default value for `weights_only` will be flipped to `True`. This limits the functions that could be executed during unpickling. Arbitrary objects will no longer be allowed to be loaded via this mode unless they are explicitly allowlisted by the user via `torch.serialization.add_safe_globals`. We recommend you start setting `weights_only=True` for any use case where you don't have full control of the loaded file. Please open an issue on GitHub for any issues related to this experimental feature.\n",
      "  data = torch.load(path)\n"
     ]
    },
    {
     "data": {
      "text/plain": [
       "(550, torch.Size([550, 3]))"
      ]
     },
     "execution_count": 1,
     "metadata": {},
     "output_type": "execute_result"
    }
   ],
   "source": [
    "data_path = '../russell_protein/protein_mpnn/tests/fixtures/pdb_2021aug02_sample'\n",
    "\n",
    "import sys\n",
    "sys.path.append('../')\n",
    "\n",
    "from russell_protein.protein_mpnn.dataset import (\n",
    "    AnishchankoMultiChainDataset,\n",
    "    build_protein_mpnn_input_structure_dict\n",
    ")\n",
    "\n",
    "from russell_protein.protein_mpnn.visualize import (\n",
    "    data_to_pdb\n",
    ")\n",
    "\n",
    "\n",
    "ds = AnishchankoMultiChainDataset(\n",
    "    'valid',\n",
    "    data_path,\n",
    ")\n",
    "\n",
    "avail_data = []\n",
    "for x in range(len(ds)):\n",
    "    try:\n",
    "        data = ds[x]\n",
    "        avail_data.append(data)\n",
    "    except Exception as e:\n",
    "        continue\n",
    "\n",
    "avail_data[0].keys()\n",
    "len(avail_data[0]['seq_chain_A']), avail_data[0]['coords_chain_A']['N_chain_A'].shape"
   ]
  },
  {
   "cell_type": "code",
   "execution_count": null,
   "metadata": {},
   "outputs": [
    {
     "name": "stdout",
     "output_type": "stream",
     "text": [
      "dict_keys(['N_chain_B', 'CA_chain_B', 'C_chain_B', 'O_chain_B'])\n"
     ]
    },
    {
     "data": {
      "text/plain": [
       "torch.Size([550, 3])"
      ]
     },
     "execution_count": 12,
     "metadata": {},
     "output_type": "execute_result"
    }
   ],
   "source": [
    "print(avail_data[0]['coords_chain_A'].keys())\n",
    "\n",
    "avail_data[0]['coords_chain_A']['N_chain_A'].shape"
   ]
  },
  {
   "cell_type": "code",
   "execution_count": 28,
   "metadata": {},
   "outputs": [
    {
     "data": {
      "text/plain": [
       "True"
      ]
     },
     "execution_count": 28,
     "metadata": {},
     "output_type": "execute_result"
    }
   ],
   "source": [
    "avail_data[0]['seq_chain_A'] == avail_data[0]['seq_chain_B']"
   ]
  },
  {
   "cell_type": "code",
   "execution_count": 10,
   "metadata": {},
   "outputs": [],
   "source": [
    "import torch\n",
    "\n",
    "data = avail_data[0]['coords_chain_A']\n",
    "\n",
    "r = torch.stack([\n",
    "    data['N_chain_A'],\n",
    "    data['CA_chain_A'],\n",
    "    data['C_chain_A'],\n",
    "    data['O_chain_A'],\n",
    "])"
   ]
  },
  {
   "cell_type": "code",
   "execution_count": null,
   "metadata": {},
   "outputs": [
    {
     "data": {
      "text/plain": [
       "torch.Size([1, 1100, 4, 3])"
      ]
     },
     "execution_count": 103,
     "metadata": {},
     "output_type": "execute_result"
    }
   ],
   "source": [
    "possible_chains = 'ABCDEFGHIJKLMNOPQRSTUVWXYZ'\n",
    "aa_atoms = ['N', 'CA', 'C', 'O']\n",
    "\n",
    "XDIM_N = 0\n",
    "XDIM_CA = 1\n",
    "XDIM_C = 2\n",
    "XDIM_O = 3\n",
    "\n",
    "data = avail_data[0]\n",
    "\n",
    "all_chain_data = {}\n",
    "for chain in possible_chains:\n",
    "\n",
    "    key = f'coords_chain_{chain}'\n",
    "    if key not in data:\n",
    "        break\n",
    "\n",
    "    for aa_atom in aa_atoms:\n",
    "        aa_atom_key = f'{aa_atom}_chain_{chain}'\n",
    "        if aa_atom_key not in data[key]:\n",
    "            raise Exception(f'{aa_atom_key} not in data. Cannot proceed- data invalid')\n",
    "\n",
    "        if aa_atom not in all_chain_data:\n",
    "            all_chain_data[aa_atom] = []\n",
    "\n",
    "        atom_coords = data[key][aa_atom_key]\n",
    "        all_chain_data[aa_atom].append(atom_coords)\n",
    "\n",
    "concat_atom_chains = {}\n",
    "for aa_atom in aa_atoms:\n",
    "    concat_atom_chains[aa_atom] = torch.concat(all_chain_data[aa_atom], dim=0)\n",
    "\n",
    "\n",
    "# (num aa, num atoms, 3d coords)\n",
    "Xi = torch.stack([\n",
    "    concat_atom_chains['N'],\n",
    "    concat_atom_chains['CA'],\n",
    "    concat_atom_chains['C'],\n",
    "    concat_atom_chains['O'],\n",
    "], dim=1)\n",
    "\n",
    "\n",
    "# Replace NaNs with 0\n",
    "# TODO: I THINK THIS IS WHAT WE WANT HERE. SEEMS LIKE PAPER DOES IT LATER IN MODEL\n",
    "Xi[torch.isnan(Xi)] = 0\n",
    "\n",
    "# add one more dimension\n",
    "X = Xi.unsqueeze(0)\n",
    "\n",
    "X.shape"
   ]
  },
  {
   "cell_type": "code",
   "execution_count": null,
   "metadata": {},
   "outputs": [],
   "source": []
  },
  {
   "cell_type": "code",
   "execution_count": null,
   "metadata": {},
   "outputs": [],
   "source": [
    "def calculate_Cb(X):\n",
    "    \"\"\"Calculate the position of virtual atom Cb for a batch of protein structures.\n",
    "\n",
    "    Input:\n",
    "    X: (batch, num aa, num atoms, 3d coords)\n",
    "\n",
    "    atoms_dim:\n",
    "        0: N\n",
    "        1: CA\n",
    "        2: C\n",
    "        3: O\n",
    "\n",
    "    This is calculated here:\n",
    "    https://github.com/dauparas/ProteinMPNN/blob/main/protein_mpnn_utils.py#L967\n",
    "\n",
    "    \"\"\"\n",
    "    # Add additional atom for \"Cb\" virtual atom\n",
    "    b = X[:, :, XDIM_CA, :] - X[:, :, XDIM_N, :]\n",
    "    c = X[:, :, XDIM_C, :] - X[:, :, XDIM_CA, :]\n",
    "    a = torch.cross(b, c, dim=-1)\n",
    "    Cb = -0.58273431*a + 0.56802827*b - 0.54067466*c + X[:, :, XDIM_CA, :]\n",
    "\n",
    "    return Cb\n",
    "\n",
    "def get_nearest_neighbors(X_atoms, k):\n",
    "    \"\"\"Return the k nearest neighbors of each atom in X_atoms.\n",
    "\n",
    "    For example if the Ca of each amino acid is given, this function will return the k nearest\n",
    "    Ca atoms in the protein for each Ca atom.\n",
    "\n",
    "    Inputs:\n",
    "        X_atoms: (batch, num atoms, 3d coords)\n",
    "        k: int: number of nearest neighbors to return\n",
    "    \"\"\"\n",
    "    eps = 1e-6\n",
    "\n",
    "    # Create a BxNxN pairwise mask\n",
    "    mask_2D = torch.unsqueeze(mask,1) * torch.unsqueeze(mask,2)\n",
    "\n",
    "    # Compute the pairwise differences between every pair of points in X\n",
    "    dCa = torch.unsqueeze(Ca,1) - torch.unsqueeze(Ca,2)\n",
    "    D = mask_2D * torch.sqrt(torch.sum(dCa**2, 3) + eps)\n",
    "\n",
    "    D_max, _ = torch.max(D, -1, keepdim=True)\n",
    "    D_adjust = D + (1. - mask_2D) * D_max\n",
    "    D_neighbors, E_idx = torch.topk(\n",
    "        D_adjust,\n",
    "        min(top_k, X.shape[1]),\n",
    "        dim=-1,\n",
    "        largest=False)\n",
    "\n",
    "    return D_neighbors, E_idx\n"
   ]
  },
  {
   "cell_type": "code",
   "execution_count": 56,
   "metadata": {},
   "outputs": [
    {
     "ename": "NameError",
     "evalue": "name 'X' is not defined",
     "output_type": "error",
     "traceback": [
      "\u001b[0;31m---------------------------------------------------------------------------\u001b[0m",
      "\u001b[0;31mNameError\u001b[0m                                 Traceback (most recent call last)",
      "Cell \u001b[0;32mIn[56], line 6\u001b[0m\n\u001b[1;32m      1\u001b[0m \u001b[38;5;66;03m#b = X[:,:,1,:] - X[:,:,0,:]\u001b[39;00m\n\u001b[1;32m      2\u001b[0m \u001b[38;5;66;03m#c = X[:,:,2,:] - X[:,:,1,:]\u001b[39;00m\n\u001b[1;32m      3\u001b[0m \u001b[38;5;66;03m#a = torch.cross(b, c, dim=-1)\u001b[39;00m\n\u001b[1;32m      4\u001b[0m \u001b[38;5;66;03m#Cb = -0.58273431*a + 0.56802827*b - 0.54067466*c + X[:,:,1,:]\u001b[39;00m\n\u001b[0;32m----> 6\u001b[0m N \u001b[38;5;241m=\u001b[39m \u001b[43mX\u001b[49m[:,:,\u001b[38;5;241m0\u001b[39m,:]\n\u001b[1;32m      7\u001b[0m Ca \u001b[38;5;241m=\u001b[39m X[:,:,\u001b[38;5;241m1\u001b[39m,:]\n\u001b[1;32m      8\u001b[0m C \u001b[38;5;241m=\u001b[39m X[:,:,\u001b[38;5;241m2\u001b[39m,:]\n",
      "\u001b[0;31mNameError\u001b[0m: name 'X' is not defined"
     ]
    }
   ],
   "source": [
    "#b = X[:,:,1,:] - X[:,:,0,:]\n",
    "#c = X[:,:,2,:] - X[:,:,1,:]\n",
    "#a = torch.cross(b, c, dim=-1)\n",
    "#Cb = -0.58273431*a + 0.56802827*b - 0.54067466*c + X[:,:,1,:]\n",
    "\n",
    "N = X[:,:,0,:]\n",
    "Ca = X[:,:,1,:]\n",
    "C = X[:,:,2,:]\n",
    "O = X[:,:,3,:]"
   ]
  },
  {
   "cell_type": "code",
   "execution_count": 129,
   "metadata": {},
   "outputs": [
    {
     "data": {
      "text/plain": [
       "torch.Size([1, 1100])"
      ]
     },
     "execution_count": 129,
     "metadata": {},
     "output_type": "execute_result"
    }
   ],
   "source": [
    "X = Xi.unsqueeze(0)\n",
    "\n",
    "mask = X.sum(dim=(2, 3)).isfinite().to(torch.float32)\n",
    "mask.shape"
   ]
  },
  {
   "cell_type": "code",
   "execution_count": null,
   "metadata": {},
   "outputs": [
    {
     "name": "stdout",
     "output_type": "stream",
     "text": [
      "torch.Size([1, 1100, 3]) torch.Size([1, 1100])\n",
      "torch.Size([1, 1100, 1100]) torch.Size([1, 1100, 1100, 3])\n",
      "torch.Size([1, 1100, 1100])\n",
      "dadj torch.Size([1, 1100, 1100])\n",
      "torch.Size([1, 1100, 30])\n",
      "torch.Size([1, 1100, 30])\n"
     ]
    },
    {
     "data": {
      "text/plain": [
       "'\\n\\nreturn D_neighbors, E_idx\\n'"
      ]
     },
     "execution_count": 159,
     "metadata": {},
     "output_type": "execute_result"
    }
   ],
   "source": [
    "# look at the _dist function in ProteinFeature\n",
    "\n",
    "#def _dist(self, X, mask, eps=1E-6):\n",
    "\n",
    "# X - (batch, num aa, num atoms, 3d coords)\n",
    "# mask - (batch, num aa)\n",
    "# eps - 1e-6\n",
    "top_k = 30\n",
    "Ca = X[:,:,1,:]\n",
    "eps = 1e-6\n",
    "\n",
    "print(Ca.shape, mask.shape)\n",
    "\n",
    "# Create a BxNxN pairwise mask\n",
    "mask_2D = torch.unsqueeze(mask,1) * torch.unsqueeze(mask,2)\n",
    "\n",
    "\n",
    "# Compute the pairwise differences between every pair of points in X\n",
    "dCa = torch.unsqueeze(Ca,1) - torch.unsqueeze(Ca,2)\n",
    "\n",
    "print(mask_2D.shape, dCa.shape)\n",
    "\n",
    "D = mask_2D * torch.sqrt(torch.sum(dCa**2, 3) + eps)\n",
    "\n",
    "print(D.shape)\n",
    "\n",
    "D_max, _ = torch.max(D, -1, keepdim=True)\n",
    "D_adjust = D + (1. - mask_2D) * D_max\n",
    "D_neighbors, E_idx = torch.topk(\n",
    "    D_adjust,\n",
    "    min(top_k, X.shape[1]),\n",
    "    dim=-1,\n",
    "    largest=False)\n",
    "\n",
    "print('dadj', D_adjust.shape)\n",
    "print(D_neighbors.shape)\n",
    "print(E_idx.shape)\n",
    "\n",
    "\"\"\"\n",
    "\n",
    "return D_neighbors, E_idx\n",
    "\"\"\""
   ]
  },
  {
   "cell_type": "code",
   "execution_count": null,
   "metadata": {},
   "outputs": [],
   "source": []
  },
  {
   "cell_type": "code",
   "execution_count": 171,
   "metadata": {},
   "outputs": [
    {
     "ename": "AttributeError",
     "evalue": "module 'torch' has no attribute 'eps'",
     "output_type": "error",
     "traceback": [
      "\u001b[0;31m---------------------------------------------------------------------------\u001b[0m",
      "\u001b[0;31mAttributeError\u001b[0m                            Traceback (most recent call last)",
      "Cell \u001b[0;32mIn[171], line 1\u001b[0m\n\u001b[0;32m----> 1\u001b[0m \u001b[43mtorch\u001b[49m\u001b[38;5;241;43m.\u001b[39;49m\u001b[43meps\u001b[49m\n",
      "File \u001b[0;32m~/Documents/PhD/development/protein-mpnn-explore/.conda/lib/python3.11/site-packages/torch/__init__.py:2562\u001b[0m, in \u001b[0;36m__getattr__\u001b[0;34m(name)\u001b[0m\n\u001b[1;32m   2559\u001b[0m \u001b[38;5;28;01mif\u001b[39;00m name \u001b[38;5;129;01min\u001b[39;00m _lazy_modules:\n\u001b[1;32m   2560\u001b[0m     \u001b[38;5;28;01mreturn\u001b[39;00m importlib\u001b[38;5;241m.\u001b[39mimport_module(\u001b[38;5;124mf\u001b[39m\u001b[38;5;124m\"\u001b[39m\u001b[38;5;124m.\u001b[39m\u001b[38;5;132;01m{\u001b[39;00mname\u001b[38;5;132;01m}\u001b[39;00m\u001b[38;5;124m\"\u001b[39m, \u001b[38;5;18m__name__\u001b[39m)\n\u001b[0;32m-> 2562\u001b[0m \u001b[38;5;28;01mraise\u001b[39;00m \u001b[38;5;167;01mAttributeError\u001b[39;00m(\u001b[38;5;124mf\u001b[39m\u001b[38;5;124m\"\u001b[39m\u001b[38;5;124mmodule \u001b[39m\u001b[38;5;124m'\u001b[39m\u001b[38;5;132;01m{\u001b[39;00m\u001b[38;5;18m__name__\u001b[39m\u001b[38;5;132;01m}\u001b[39;00m\u001b[38;5;124m'\u001b[39m\u001b[38;5;124m has no attribute \u001b[39m\u001b[38;5;124m'\u001b[39m\u001b[38;5;132;01m{\u001b[39;00mname\u001b[38;5;132;01m}\u001b[39;00m\u001b[38;5;124m'\u001b[39m\u001b[38;5;124m\"\u001b[39m)\n",
      "\u001b[0;31mAttributeError\u001b[0m: module 'torch' has no attribute 'eps'"
     ]
    }
   ],
   "source": [
    "torch.eps"
   ]
  },
  {
   "cell_type": "code",
   "execution_count": null,
   "metadata": {},
   "outputs": [
    {
     "data": {
      "text/plain": [
       "tensor([ 50,  49,  51,  48,  52,  53,  47, 224, 312, 311, 314,  61,  62,  63,\n",
       "        222, 313, 223,  46, 227, 228,  56,  54, 260,  60, 264, 261, 225, 316,\n",
       "        310, 315])"
      ]
     },
     "execution_count": 168,
     "metadata": {},
     "output_type": "execute_result"
    }
   ],
   "source": [
    "E_idx[0,1000,:]"
   ]
  },
  {
   "cell_type": "code",
   "execution_count": 136,
   "metadata": {},
   "outputs": [
    {
     "data": {
      "text/plain": [
       "(torch.Size([1, 1, 1100, 4, 3]), torch.Size([1, 1100, 1, 4, 3]))"
      ]
     },
     "execution_count": 136,
     "metadata": {},
     "output_type": "execute_result"
    }
   ],
   "source": [
    "torch.unsqueeze(X,1).shape, torch.unsqueeze(X,2).shape"
   ]
  },
  {
   "cell_type": "code",
   "execution_count": null,
   "metadata": {},
   "outputs": [],
   "source": [
    "import torch.nn as nn\n",
    "\n",
    "class ProteinFeatures(nn.Module):\n",
    "    \"\"\"\n",
    "    We represent protein structure in terms of an attributed graph G = (V, E) with\n",
    "    node features V = {v1, . . . , vN } describing each residue (amino acid, which\n",
    "        are the letters which compose a protein sequence) and\n",
    "    edge features E = {eij}i6=j capturing relationships between them\n",
    "\n",
    "\n",
    "    \"\"\"\n",
    "\n",
    "\n",
    "    def __init__(\n",
    "        self,\n",
    "        num_edge_features,\n",
    "        num_node_features,\n",
    "        num_positional_embeddings=16,\n",
    "        num_rbf = 16,\n",
    "        top_k = 30,\n",
    "        augment_eps = 0.,\n",
    "        num_chain_embeddings = 16\n",
    "    ):\n",
    "        \"\"\"\"\"\"\n",
    "        super(ProteinFeatures, self).__init__()\n",
    "\n",
    "        node_in = 6\n",
    "        edge_in = num_positional_embeddings + num_rbf * 25\n",
    "\n",
    "        self.position_embedding = PositionalEncodings(num_positional_embeddings)\n",
    "        self.edge_embedding = nn.Linear(edge_in, num_edge_features, bias=False)\n",
    "        self.norm_edges = nn.LayerNorm(num_edge_features)\n",
    "\n",
    "\n",
    "    def forward(self, X, mask, residue_idx, chain_labels):\n",
    "        \"\"\"\n",
    "\n",
    "        X: (batch, num aa, num atoms, 3d coords)\n",
    "        mask: (batch, num aa)\n",
    "        ???residue_idx: (batch, num aa)\n",
    "        ???chain_labels: (batch, num aa)\n",
    "        \"\"\"\n",
    "        Cb = calculate_Cb(X)\n",
    "\n",
    "        Ca = X[:,:,XDIM_CA,:]\n",
    "        N = X[:,:,XDIM_N,:]\n",
    "        C = X[:,:,XDIM_C,:]\n",
    "        O = X[:,:,XDIM_O,:]\n"
   ]
  },
  {
   "cell_type": "code",
   "execution_count": null,
   "metadata": {},
   "outputs": [],
   "source": [
    "def get_rbf_pairs(Ca, N, C, O, Cb):\n",
    "    pairs = [\n",
    "        (N, N),     #N-N\n",
    "        (C, C),     #C-C\n",
    "        (O, O),     #O-O\n",
    "        (Cb, Cb),   #Cb-Cb\n",
    "        (Ca, N),    #Ca-N\n",
    "        (Ca, C),    #Ca-C\n",
    "        (Ca, O),    #Ca-O\n",
    "        (Ca, Cb),   #Ca-Cb\n",
    "        (N, C),     #N-C\n",
    "        (N, O),     #N-O\n",
    "        (N, Cb),    #N-Cb\n",
    "        (Cb, C),    #Cb-C\n",
    "        (Cb, O),    #Cb-O\n",
    "        (O, C),     #O-C\n",
    "        (N, Ca),    #N-Ca\n",
    "        (C, Ca),    #C-Ca\n",
    "        (O, Ca),    #O-Ca\n",
    "        (Cb, Ca)    #Cb-Ca\n",
    "        (C, N)      #C-N\n",
    "        (O, N)      #O-N\n",
    "        (Cb, N)     #Cb-N\n",
    "        (C, Cb)     #C-Cb\n",
    "        (O, Cb)     #O-Cb\n",
    "        (C, O)      #C-O\n",
    "    ]\n",
    "\n",
    "    return [\n",
    "\n",
    "        for pair in pairs\n",
    "    ]"
   ]
  },
  {
   "cell_type": "code",
   "execution_count": null,
   "metadata": {},
   "outputs": [],
   "source": []
  },
  {
   "cell_type": "code",
   "execution_count": 178,
   "metadata": {},
   "outputs": [
    {
     "data": {
      "text/plain": [
       "tensor([[2, 2],\n",
       "        [4, 3],\n",
       "        [5, 5]])"
      ]
     },
     "execution_count": 178,
     "metadata": {},
     "output_type": "execute_result"
    }
   ],
   "source": [
    "t = torch.tensor([[1, 2], [3, 4], [5, 6]])\n",
    "\n",
    "torch.gather(t, 1, torch.tensor([[1, 1], [1, 0], [0, 0]]))"
   ]
  },
  {
   "cell_type": "code",
   "execution_count": null,
   "metadata": {},
   "outputs": [],
   "source": []
  }
 ],
 "metadata": {
  "kernelspec": {
   "display_name": "Python 3",
   "language": "python",
   "name": "python3"
  },
  "language_info": {
   "codemirror_mode": {
    "name": "ipython",
    "version": 3
   },
   "file_extension": ".py",
   "mimetype": "text/x-python",
   "name": "python",
   "nbconvert_exporter": "python",
   "pygments_lexer": "ipython3",
   "version": "3.11.11"
  }
 },
 "nbformat": 4,
 "nbformat_minor": 2
}
