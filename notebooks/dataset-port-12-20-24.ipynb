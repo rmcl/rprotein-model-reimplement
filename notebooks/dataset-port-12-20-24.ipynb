{
 "cells": [
  {
   "cell_type": "code",
   "execution_count": 1,
   "metadata": {},
   "outputs": [],
   "source": [
    "%load_ext autoreload\n",
    "%autoreload 2"
   ]
  },
  {
   "cell_type": "code",
   "execution_count": 3,
   "metadata": {},
   "outputs": [
    {
     "data": {
      "text/plain": [
       "[]"
      ]
     },
     "execution_count": 3,
     "metadata": {},
     "output_type": "execute_result"
    }
   ],
   "source": [
    "data_path = '../data/pdb_2021aug02_sample'\n",
    "\n",
    "import glob\n",
    "\n",
    "glob.glob(data_path + '/*')"
   ]
  },
  {
   "cell_type": "code",
   "execution_count": 4,
   "metadata": {},
   "outputs": [
    {
     "ename": "FileNotFoundError",
     "evalue": "[Errno 2] No such file or directory: '../data/pdb_2021aug02_sample/list.csv'",
     "output_type": "error",
     "traceback": [
      "\u001b[0;31m---------------------------------------------------------------------------\u001b[0m",
      "\u001b[0;31mFileNotFoundError\u001b[0m                         Traceback (most recent call last)",
      "Cell \u001b[0;32mIn[4], line 3\u001b[0m\n\u001b[1;32m      1\u001b[0m \u001b[38;5;28;01mimport\u001b[39;00m \u001b[38;5;21;01mpandas\u001b[39;00m \u001b[38;5;28;01mas\u001b[39;00m \u001b[38;5;21;01mpd\u001b[39;00m\n\u001b[0;32m----> 3\u001b[0m \u001b[43mpd\u001b[49m\u001b[38;5;241;43m.\u001b[39;49m\u001b[43mread_csv\u001b[49m\u001b[43m(\u001b[49m\u001b[38;5;124;43mf\u001b[39;49m\u001b[38;5;124;43m'\u001b[39;49m\u001b[38;5;132;43;01m{\u001b[39;49;00m\u001b[43mdata_path\u001b[49m\u001b[38;5;132;43;01m}\u001b[39;49;00m\u001b[38;5;124;43m/list.csv\u001b[39;49m\u001b[38;5;124;43m'\u001b[39;49m\u001b[43m)\u001b[49m\n",
      "File \u001b[0;32m~/Documents/PhD/development/protein-mpnn-explore/.conda/lib/python3.11/site-packages/pandas/io/parsers/readers.py:1026\u001b[0m, in \u001b[0;36mread_csv\u001b[0;34m(filepath_or_buffer, sep, delimiter, header, names, index_col, usecols, dtype, engine, converters, true_values, false_values, skipinitialspace, skiprows, skipfooter, nrows, na_values, keep_default_na, na_filter, verbose, skip_blank_lines, parse_dates, infer_datetime_format, keep_date_col, date_parser, date_format, dayfirst, cache_dates, iterator, chunksize, compression, thousands, decimal, lineterminator, quotechar, quoting, doublequote, escapechar, comment, encoding, encoding_errors, dialect, on_bad_lines, delim_whitespace, low_memory, memory_map, float_precision, storage_options, dtype_backend)\u001b[0m\n\u001b[1;32m   1013\u001b[0m kwds_defaults \u001b[38;5;241m=\u001b[39m _refine_defaults_read(\n\u001b[1;32m   1014\u001b[0m     dialect,\n\u001b[1;32m   1015\u001b[0m     delimiter,\n\u001b[0;32m   (...)\u001b[0m\n\u001b[1;32m   1022\u001b[0m     dtype_backend\u001b[38;5;241m=\u001b[39mdtype_backend,\n\u001b[1;32m   1023\u001b[0m )\n\u001b[1;32m   1024\u001b[0m kwds\u001b[38;5;241m.\u001b[39mupdate(kwds_defaults)\n\u001b[0;32m-> 1026\u001b[0m \u001b[38;5;28;01mreturn\u001b[39;00m \u001b[43m_read\u001b[49m\u001b[43m(\u001b[49m\u001b[43mfilepath_or_buffer\u001b[49m\u001b[43m,\u001b[49m\u001b[43m \u001b[49m\u001b[43mkwds\u001b[49m\u001b[43m)\u001b[49m\n",
      "File \u001b[0;32m~/Documents/PhD/development/protein-mpnn-explore/.conda/lib/python3.11/site-packages/pandas/io/parsers/readers.py:620\u001b[0m, in \u001b[0;36m_read\u001b[0;34m(filepath_or_buffer, kwds)\u001b[0m\n\u001b[1;32m    617\u001b[0m _validate_names(kwds\u001b[38;5;241m.\u001b[39mget(\u001b[38;5;124m\"\u001b[39m\u001b[38;5;124mnames\u001b[39m\u001b[38;5;124m\"\u001b[39m, \u001b[38;5;28;01mNone\u001b[39;00m))\n\u001b[1;32m    619\u001b[0m \u001b[38;5;66;03m# Create the parser.\u001b[39;00m\n\u001b[0;32m--> 620\u001b[0m parser \u001b[38;5;241m=\u001b[39m \u001b[43mTextFileReader\u001b[49m\u001b[43m(\u001b[49m\u001b[43mfilepath_or_buffer\u001b[49m\u001b[43m,\u001b[49m\u001b[43m \u001b[49m\u001b[38;5;241;43m*\u001b[39;49m\u001b[38;5;241;43m*\u001b[39;49m\u001b[43mkwds\u001b[49m\u001b[43m)\u001b[49m\n\u001b[1;32m    622\u001b[0m \u001b[38;5;28;01mif\u001b[39;00m chunksize \u001b[38;5;129;01mor\u001b[39;00m iterator:\n\u001b[1;32m    623\u001b[0m     \u001b[38;5;28;01mreturn\u001b[39;00m parser\n",
      "File \u001b[0;32m~/Documents/PhD/development/protein-mpnn-explore/.conda/lib/python3.11/site-packages/pandas/io/parsers/readers.py:1620\u001b[0m, in \u001b[0;36mTextFileReader.__init__\u001b[0;34m(self, f, engine, **kwds)\u001b[0m\n\u001b[1;32m   1617\u001b[0m     \u001b[38;5;28mself\u001b[39m\u001b[38;5;241m.\u001b[39moptions[\u001b[38;5;124m\"\u001b[39m\u001b[38;5;124mhas_index_names\u001b[39m\u001b[38;5;124m\"\u001b[39m] \u001b[38;5;241m=\u001b[39m kwds[\u001b[38;5;124m\"\u001b[39m\u001b[38;5;124mhas_index_names\u001b[39m\u001b[38;5;124m\"\u001b[39m]\n\u001b[1;32m   1619\u001b[0m \u001b[38;5;28mself\u001b[39m\u001b[38;5;241m.\u001b[39mhandles: IOHandles \u001b[38;5;241m|\u001b[39m \u001b[38;5;28;01mNone\u001b[39;00m \u001b[38;5;241m=\u001b[39m \u001b[38;5;28;01mNone\u001b[39;00m\n\u001b[0;32m-> 1620\u001b[0m \u001b[38;5;28mself\u001b[39m\u001b[38;5;241m.\u001b[39m_engine \u001b[38;5;241m=\u001b[39m \u001b[38;5;28;43mself\u001b[39;49m\u001b[38;5;241;43m.\u001b[39;49m\u001b[43m_make_engine\u001b[49m\u001b[43m(\u001b[49m\u001b[43mf\u001b[49m\u001b[43m,\u001b[49m\u001b[43m \u001b[49m\u001b[38;5;28;43mself\u001b[39;49m\u001b[38;5;241;43m.\u001b[39;49m\u001b[43mengine\u001b[49m\u001b[43m)\u001b[49m\n",
      "File \u001b[0;32m~/Documents/PhD/development/protein-mpnn-explore/.conda/lib/python3.11/site-packages/pandas/io/parsers/readers.py:1880\u001b[0m, in \u001b[0;36mTextFileReader._make_engine\u001b[0;34m(self, f, engine)\u001b[0m\n\u001b[1;32m   1878\u001b[0m     \u001b[38;5;28;01mif\u001b[39;00m \u001b[38;5;124m\"\u001b[39m\u001b[38;5;124mb\u001b[39m\u001b[38;5;124m\"\u001b[39m \u001b[38;5;129;01mnot\u001b[39;00m \u001b[38;5;129;01min\u001b[39;00m mode:\n\u001b[1;32m   1879\u001b[0m         mode \u001b[38;5;241m+\u001b[39m\u001b[38;5;241m=\u001b[39m \u001b[38;5;124m\"\u001b[39m\u001b[38;5;124mb\u001b[39m\u001b[38;5;124m\"\u001b[39m\n\u001b[0;32m-> 1880\u001b[0m \u001b[38;5;28mself\u001b[39m\u001b[38;5;241m.\u001b[39mhandles \u001b[38;5;241m=\u001b[39m \u001b[43mget_handle\u001b[49m\u001b[43m(\u001b[49m\n\u001b[1;32m   1881\u001b[0m \u001b[43m    \u001b[49m\u001b[43mf\u001b[49m\u001b[43m,\u001b[49m\n\u001b[1;32m   1882\u001b[0m \u001b[43m    \u001b[49m\u001b[43mmode\u001b[49m\u001b[43m,\u001b[49m\n\u001b[1;32m   1883\u001b[0m \u001b[43m    \u001b[49m\u001b[43mencoding\u001b[49m\u001b[38;5;241;43m=\u001b[39;49m\u001b[38;5;28;43mself\u001b[39;49m\u001b[38;5;241;43m.\u001b[39;49m\u001b[43moptions\u001b[49m\u001b[38;5;241;43m.\u001b[39;49m\u001b[43mget\u001b[49m\u001b[43m(\u001b[49m\u001b[38;5;124;43m\"\u001b[39;49m\u001b[38;5;124;43mencoding\u001b[39;49m\u001b[38;5;124;43m\"\u001b[39;49m\u001b[43m,\u001b[49m\u001b[43m \u001b[49m\u001b[38;5;28;43;01mNone\u001b[39;49;00m\u001b[43m)\u001b[49m\u001b[43m,\u001b[49m\n\u001b[1;32m   1884\u001b[0m \u001b[43m    \u001b[49m\u001b[43mcompression\u001b[49m\u001b[38;5;241;43m=\u001b[39;49m\u001b[38;5;28;43mself\u001b[39;49m\u001b[38;5;241;43m.\u001b[39;49m\u001b[43moptions\u001b[49m\u001b[38;5;241;43m.\u001b[39;49m\u001b[43mget\u001b[49m\u001b[43m(\u001b[49m\u001b[38;5;124;43m\"\u001b[39;49m\u001b[38;5;124;43mcompression\u001b[39;49m\u001b[38;5;124;43m\"\u001b[39;49m\u001b[43m,\u001b[49m\u001b[43m \u001b[49m\u001b[38;5;28;43;01mNone\u001b[39;49;00m\u001b[43m)\u001b[49m\u001b[43m,\u001b[49m\n\u001b[1;32m   1885\u001b[0m \u001b[43m    \u001b[49m\u001b[43mmemory_map\u001b[49m\u001b[38;5;241;43m=\u001b[39;49m\u001b[38;5;28;43mself\u001b[39;49m\u001b[38;5;241;43m.\u001b[39;49m\u001b[43moptions\u001b[49m\u001b[38;5;241;43m.\u001b[39;49m\u001b[43mget\u001b[49m\u001b[43m(\u001b[49m\u001b[38;5;124;43m\"\u001b[39;49m\u001b[38;5;124;43mmemory_map\u001b[39;49m\u001b[38;5;124;43m\"\u001b[39;49m\u001b[43m,\u001b[49m\u001b[43m \u001b[49m\u001b[38;5;28;43;01mFalse\u001b[39;49;00m\u001b[43m)\u001b[49m\u001b[43m,\u001b[49m\n\u001b[1;32m   1886\u001b[0m \u001b[43m    \u001b[49m\u001b[43mis_text\u001b[49m\u001b[38;5;241;43m=\u001b[39;49m\u001b[43mis_text\u001b[49m\u001b[43m,\u001b[49m\n\u001b[1;32m   1887\u001b[0m \u001b[43m    \u001b[49m\u001b[43merrors\u001b[49m\u001b[38;5;241;43m=\u001b[39;49m\u001b[38;5;28;43mself\u001b[39;49m\u001b[38;5;241;43m.\u001b[39;49m\u001b[43moptions\u001b[49m\u001b[38;5;241;43m.\u001b[39;49m\u001b[43mget\u001b[49m\u001b[43m(\u001b[49m\u001b[38;5;124;43m\"\u001b[39;49m\u001b[38;5;124;43mencoding_errors\u001b[39;49m\u001b[38;5;124;43m\"\u001b[39;49m\u001b[43m,\u001b[49m\u001b[43m \u001b[49m\u001b[38;5;124;43m\"\u001b[39;49m\u001b[38;5;124;43mstrict\u001b[39;49m\u001b[38;5;124;43m\"\u001b[39;49m\u001b[43m)\u001b[49m\u001b[43m,\u001b[49m\n\u001b[1;32m   1888\u001b[0m \u001b[43m    \u001b[49m\u001b[43mstorage_options\u001b[49m\u001b[38;5;241;43m=\u001b[39;49m\u001b[38;5;28;43mself\u001b[39;49m\u001b[38;5;241;43m.\u001b[39;49m\u001b[43moptions\u001b[49m\u001b[38;5;241;43m.\u001b[39;49m\u001b[43mget\u001b[49m\u001b[43m(\u001b[49m\u001b[38;5;124;43m\"\u001b[39;49m\u001b[38;5;124;43mstorage_options\u001b[39;49m\u001b[38;5;124;43m\"\u001b[39;49m\u001b[43m,\u001b[49m\u001b[43m \u001b[49m\u001b[38;5;28;43;01mNone\u001b[39;49;00m\u001b[43m)\u001b[49m\u001b[43m,\u001b[49m\n\u001b[1;32m   1889\u001b[0m \u001b[43m\u001b[49m\u001b[43m)\u001b[49m\n\u001b[1;32m   1890\u001b[0m \u001b[38;5;28;01massert\u001b[39;00m \u001b[38;5;28mself\u001b[39m\u001b[38;5;241m.\u001b[39mhandles \u001b[38;5;129;01mis\u001b[39;00m \u001b[38;5;129;01mnot\u001b[39;00m \u001b[38;5;28;01mNone\u001b[39;00m\n\u001b[1;32m   1891\u001b[0m f \u001b[38;5;241m=\u001b[39m \u001b[38;5;28mself\u001b[39m\u001b[38;5;241m.\u001b[39mhandles\u001b[38;5;241m.\u001b[39mhandle\n",
      "File \u001b[0;32m~/Documents/PhD/development/protein-mpnn-explore/.conda/lib/python3.11/site-packages/pandas/io/common.py:873\u001b[0m, in \u001b[0;36mget_handle\u001b[0;34m(path_or_buf, mode, encoding, compression, memory_map, is_text, errors, storage_options)\u001b[0m\n\u001b[1;32m    868\u001b[0m \u001b[38;5;28;01melif\u001b[39;00m \u001b[38;5;28misinstance\u001b[39m(handle, \u001b[38;5;28mstr\u001b[39m):\n\u001b[1;32m    869\u001b[0m     \u001b[38;5;66;03m# Check whether the filename is to be opened in binary mode.\u001b[39;00m\n\u001b[1;32m    870\u001b[0m     \u001b[38;5;66;03m# Binary mode does not support 'encoding' and 'newline'.\u001b[39;00m\n\u001b[1;32m    871\u001b[0m     \u001b[38;5;28;01mif\u001b[39;00m ioargs\u001b[38;5;241m.\u001b[39mencoding \u001b[38;5;129;01mand\u001b[39;00m \u001b[38;5;124m\"\u001b[39m\u001b[38;5;124mb\u001b[39m\u001b[38;5;124m\"\u001b[39m \u001b[38;5;129;01mnot\u001b[39;00m \u001b[38;5;129;01min\u001b[39;00m ioargs\u001b[38;5;241m.\u001b[39mmode:\n\u001b[1;32m    872\u001b[0m         \u001b[38;5;66;03m# Encoding\u001b[39;00m\n\u001b[0;32m--> 873\u001b[0m         handle \u001b[38;5;241m=\u001b[39m \u001b[38;5;28;43mopen\u001b[39;49m\u001b[43m(\u001b[49m\n\u001b[1;32m    874\u001b[0m \u001b[43m            \u001b[49m\u001b[43mhandle\u001b[49m\u001b[43m,\u001b[49m\n\u001b[1;32m    875\u001b[0m \u001b[43m            \u001b[49m\u001b[43mioargs\u001b[49m\u001b[38;5;241;43m.\u001b[39;49m\u001b[43mmode\u001b[49m\u001b[43m,\u001b[49m\n\u001b[1;32m    876\u001b[0m \u001b[43m            \u001b[49m\u001b[43mencoding\u001b[49m\u001b[38;5;241;43m=\u001b[39;49m\u001b[43mioargs\u001b[49m\u001b[38;5;241;43m.\u001b[39;49m\u001b[43mencoding\u001b[49m\u001b[43m,\u001b[49m\n\u001b[1;32m    877\u001b[0m \u001b[43m            \u001b[49m\u001b[43merrors\u001b[49m\u001b[38;5;241;43m=\u001b[39;49m\u001b[43merrors\u001b[49m\u001b[43m,\u001b[49m\n\u001b[1;32m    878\u001b[0m \u001b[43m            \u001b[49m\u001b[43mnewline\u001b[49m\u001b[38;5;241;43m=\u001b[39;49m\u001b[38;5;124;43m\"\u001b[39;49m\u001b[38;5;124;43m\"\u001b[39;49m\u001b[43m,\u001b[49m\n\u001b[1;32m    879\u001b[0m \u001b[43m        \u001b[49m\u001b[43m)\u001b[49m\n\u001b[1;32m    880\u001b[0m     \u001b[38;5;28;01melse\u001b[39;00m:\n\u001b[1;32m    881\u001b[0m         \u001b[38;5;66;03m# Binary mode\u001b[39;00m\n\u001b[1;32m    882\u001b[0m         handle \u001b[38;5;241m=\u001b[39m \u001b[38;5;28mopen\u001b[39m(handle, ioargs\u001b[38;5;241m.\u001b[39mmode)\n",
      "\u001b[0;31mFileNotFoundError\u001b[0m: [Errno 2] No such file or directory: '../data/pdb_2021aug02_sample/list.csv'"
     ]
    }
   ],
   "source": [
    "import pandas as pd\n",
    "\n",
    "pd.read_csv(f'{data_path}/list.csv')"
   ]
  },
  {
   "cell_type": "code",
   "execution_count": 9,
   "metadata": {},
   "outputs": [],
   "source": [
    "import csv\n",
    "from dateutil import parser\n",
    "\n",
    "def build_training_clusters(params, debug):\n",
    "    val_ids = set([int(l) for l in open(params['VAL']).readlines()])\n",
    "    test_ids = set([int(l) for l in open(params['TEST']).readlines()])\n",
    "\n",
    "    if debug:\n",
    "        val_ids = []\n",
    "        test_ids = []\n",
    "\n",
    "    # read & clean list.csv\n",
    "    with open(params['LIST'], 'r') as f:\n",
    "        reader = csv.reader(f)\n",
    "        next(reader)\n",
    "        rows = [[r[0],r[3],int(r[4])] for r in reader\n",
    "                if float(r[2])<=params['RESCUT'] and\n",
    "                parser.parse(r[1])<=parser.parse(params['DATCUT'])]\n",
    "\n",
    "    # compile training and validation sets\n",
    "    train = {}\n",
    "    valid = {}\n",
    "    test = {}\n",
    "\n",
    "    if debug:\n",
    "        rows = rows[:20]\n",
    "    for r in rows:\n",
    "        if r[2] in val_ids:\n",
    "            if r[2] in valid.keys():\n",
    "                valid[r[2]].append(r[:2])\n",
    "            else:\n",
    "                valid[r[2]] = [r[:2]]\n",
    "        elif r[2] in test_ids:\n",
    "            if r[2] in test.keys():\n",
    "                test[r[2]].append(r[:2])\n",
    "            else:\n",
    "                test[r[2]] = [r[:2]]\n",
    "        else:\n",
    "            if r[2] in train.keys():\n",
    "                train[r[2]].append(r[:2])\n",
    "            else:\n",
    "                train[r[2]] = [r[:2]]\n",
    "    if debug:\n",
    "        valid=train\n",
    "    return train, valid, test\n",
    "\n",
    "\n",
    "\n",
    "data_path = '../russell_protein/protein_mpnn/tests/fixtures/pdb_2021aug02_sample'\n",
    "\n",
    "train,valid,test = build_training_clusters({\n",
    "    'VAL': f'{data_path}/valid_clusters.txt',\n",
    "    'TEST': f'{data_path}/test_clusters.txt',\n",
    "    'LIST': f'{data_path}/list.csv',\n",
    "    'RESCUT': 2.0,\n",
    "    'DATCUT': '2021-01-01'\n",
    "\n",
    "}, True)"
   ]
  },
  {
   "cell_type": "code",
   "execution_count": 41,
   "metadata": {},
   "outputs": [
    {
     "data": {
      "text/plain": [
       "{6750: [['5nag_A', '082310'],\n",
       "  ['5nag_B', '082310'],\n",
       "  ['5nah_A', '082311'],\n",
       "  ['5nah_B', '082311'],\n",
       "  ['5nak_A', '082310'],\n",
       "  ['5nak_B', '082310']],\n",
       " 21385: [['5nai_A', '067953']],\n",
       " 22021: [['5naj_A', '030830'],\n",
       "  ['5naj_B', '030830'],\n",
       "  ['5naj_C', '030830'],\n",
       "  ['5naj_D', '030830']],\n",
       " 15132: [['5nar_A', '036425'], ['5nat_A', '036425'], ['5naw_A', '036425']],\n",
       " 1421: [['5nay_A', '103501'],\n",
       "  ['5nay_B', '103501'],\n",
       "  ['5nay_C', '103501'],\n",
       "  ['5nay_D', '103501'],\n",
       "  ['5nay_E', '103501'],\n",
       "  ['5nay_F', '103501']]}"
      ]
     },
     "execution_count": 41,
     "metadata": {},
     "output_type": "execute_result"
    }
   ],
   "source": [
    "train"
   ]
  },
  {
   "cell_type": "code",
   "execution_count": null,
   "metadata": {},
   "outputs": [
    {
     "data": {
      "text/plain": [
       "('5nah', 'DIR/pdb/na/5nah')"
      ]
     },
     "execution_count": 47,
     "metadata": {},
     "output_type": "execute_result"
    }
   ],
   "source": [
    "item = train[6750][3]\n",
    "\n",
    "pdbid, chid = item[0].split('_')\n",
    "PREFIX = \"%s/pdb/%s/%s\"%('DIR',pdbid[1:3],pdbid)\n",
    "pdbid, PREFIX"
   ]
  },
  {
   "cell_type": "code",
   "execution_count": null,
   "metadata": {},
   "outputs": [
    {
     "name": "stderr",
     "output_type": "stream",
     "text": [
      "/var/folders/95/40g56m011614lbl69wt_5llc0000gn/T/ipykernel_14584/579976422.py:4: FutureWarning: You are using `torch.load` with `weights_only=False` (the current default value), which uses the default pickle module implicitly. It is possible to construct malicious pickle data which will execute arbitrary code during unpickling (See https://github.com/pytorch/pytorch/blob/main/SECURITY.md#untrusted-models for more details). In a future release, the default value for `weights_only` will be flipped to `True`. This limits the functions that could be executed during unpickling. Arbitrary objects will no longer be allowed to be loaded via this mode unless they are explicitly allowlisted by the user via `torch.serialization.add_safe_globals`. We recommend you start setting `weights_only=True` for any use case where you don't have full control of the loaded file. Please open an issue on GitHub for any issues related to this experimental feature.\n",
      "  return torch.load(path)\n"
     ]
    }
   ],
   "source": [
    "import torch\n",
    "def load_chain_data(pdb_id, chain_id):\n",
    "    path = f'{data_path}/pdb/l3/{pdb_id}_{chain_id}.pt'\n",
    "    return torch.load(path)\n",
    "\n",
    "pdb_id = '1l3a'\n",
    "d = load_chain_data('6l3t', 'B')"
   ]
  },
  {
   "cell_type": "code",
   "execution_count": 75,
   "metadata": {},
   "outputs": [
    {
     "data": {
      "text/plain": [
       "['A,B,C,D,E,F,G,H,I,J,K,L,M,N,O,P,Q,R']"
      ]
     },
     "execution_count": 75,
     "metadata": {},
     "output_type": "execute_result"
    }
   ],
   "source": [
    "\n",
    "assembly_chains\n"
   ]
  },
  {
   "cell_type": "code",
   "execution_count": 126,
   "metadata": {},
   "outputs": [
    {
     "data": {
      "text/plain": [
       "{'method': 'X-RAY_DIFFRACTION',\n",
       " 'date': '2002-02-26',\n",
       " 'resolution': 2.65,\n",
       " 'chains': ['A', 'B', 'C', 'D', 'E', 'F', 'G', 'H'],\n",
       " 'seq': [['MIPDDEFIKNPSVPGPTAMEVRCLIMCLAEPGKNDVAVDVGCGTGGVTLELAGRVRRVYAIDRNPEAISTTEMNLQRHGLGDNVTLMEGDAPEALCKIPDIDIAVVGGSGGELQEILRIIKDKLKPGGRIIVTAILLETKFEAMECLRDLGFDVNITELNIARGRALDRGTMMVSRNPVALIYTGVSHENKD',\n",
       "   'MIPDDEFIKNPSVPGPTAMEVRCLIMCLAEPGKNDVAVDVGCGTGGVTLELAGRVRRVYAIDRNPEAISTTEMNLQRHGLGDNVTLMEGDAPEALCKIPDIDIAVVGGSGGELQEILRIIKDKLKPGGRIIVTAILLETKFEAMECLRDLGFDVNITELNIARGRALDRGTMMVSRNPVALIYTGV------'],\n",
       "  ['MIPDDEFIKNPSVPGPTAMEVRCLIMCLAEPGKNDVAVDVGCGTGGVTLELAGRVRRVYAIDRNPEAISTTEMNLQRHGLGDNVTLMEGDAPEALCKIPDIDIAVVGGSGGELQEILRIIKDKLKPGGRIIVTAILLETKFEAMECLRDLGFDVNITELNIARGRALDRGTMMVSRNPVALIYTGVSHENKD',\n",
       "   'MIPDDEFIKNPSVPGPTAMEVRCLIMCLAEPGKNDVAVDVGCGTGGVTLELAGRVRRVYAIDRNPEAISTTEMNLQRHGLGDNVTLMEGDAPEALCKIPDIDIAVVGGSGGELQEILRIIKDKLKPGGRIIVTAILLETKFEAMECLRDLGFDVNITELNIARGRALDRGTMMVSRNPVALIYTGV------'],\n",
       "  ['MIPDDEFIKNPSVPGPTAMEVRCLIMCLAEPGKNDVAVDVGCGTGGVTLELAGRVRRVYAIDRNPEAISTTEMNLQRHGLGDNVTLMEGDAPEALCKIPDIDIAVVGGSGGELQEILRIIKDKLKPGGRIIVTAILLETKFEAMECLRDLGFDVNITELNIARGRALDRGTMMVSRNPVALIYTGVSHENKD',\n",
       "   'MIPDDEFIKNPSVPGPTAMEVRCLIMCLAEPGKNDVAVDVGCGTGGVTLELAGRVRRVYAIDRNPEAISTTEMNLQRHGLGDNVTLMEGDAPEALCKIPDIDIAVVGGSGGELQEILRIIKDKLKPGGRIIVTAILLETKFEAMECLRDLGFDVNITELNIARGRALDRGTMMVSRNPVALIYTGV------'],\n",
       "  ['MIPDDEFIKNPSVPGPTAMEVRCLIMCLAEPGKNDVAVDVGCGTGGVTLELAGRVRRVYAIDRNPEAISTTEMNLQRHGLGDNVTLMEGDAPEALCKIPDIDIAVVGGSGGELQEILRIIKDKLKPGGRIIVTAILLETKFEAMECLRDLGFDVNITELNIARGRALDRGTMMVSRNPVALIYTGVSHENKD',\n",
       "   'MIPDDEFIKNPSVPGPTAMEVRCLIMCLAEPGKNDVAVDVGCGTGGVTLELAGRVRRVYAIDRNPEAISTTEMNLQRHGLGDNVTLMEGDAPEALCKIPDIDIAVVGGSGGELQEILRIIKDKLKPGGRIIVTAILLETKFEAMECLRDLGFDVNITELNIARGRALDRGTMMVSRNPVALIYTGV------'],\n",
       "  ['MIPDDEFIKNPSVPGPTAMEVRCLIMCLAEPGKNDVAVDVGCGTGGVTLELAGRVRRVYAIDRNPEAISTTEMNLQRHGLGDNVTLMEGDAPEALCKIPDIDIAVVGGSGGELQEILRIIKDKLKPGGRIIVTAILLETKFEAMECLRDLGFDVNITELNIARGRALDRGTMMVSRNPVALIYTGVSHENKD',\n",
       "   'MIPDDEFIKNPSVPGPTAMEVRCLIMCLAEPGKNDVAVDVGCGTGGVTLELAGRVRRVYAIDRNPEAISTTEMNLQRHGLGDNVTLMEGDAPEALCKIPDIDIAVVGGSGGELQEILRIIKDKLKPGGRIIVTAILLETKFEAMECLRDLGFDVNITELNIARGRALDRGTMMVSRNPVALIYTGV------'],\n",
       "  ['MIPDDEFIKNPSVPGPTAMEVRCLIMCLAEPGKNDVAVDVGCGTGGVTLELAGRVRRVYAIDRNPEAISTTEMNLQRHGLGDNVTLMEGDAPEALCKIPDIDIAVVGGSGGELQEILRIIKDKLKPGGRIIVTAILLETKFEAMECLRDLGFDVNITELNIARGRALDRGTMMVSRNPVALIYTGVSHENKD',\n",
       "   'MIPDDEFIKNPSVPGPTAMEVRCLIMCLAEPGKNDVAVDVGCGTGGVTLELAGRVRRVYAIDRNPEAISTTEMNLQRHGLGDNVTLMEGDAPEALCKIPDIDIAVVGGSGGELQEILRIIKDKLKPGGRIIVTAILLETKFEAMECLRDLGFDVNITELNIARGRALDRGTMMVSRNPVALIYTGV------'],\n",
       "  ['MIPDDEFIKNPSVPGPTAMEVRCLIMCLAEPGKNDVAVDVGCGTGGVTLELAGRVRRVYAIDRNPEAISTTEMNLQRHGLGDNVTLMEGDAPEALCKIPDIDIAVVGGSGGELQEILRIIKDKLKPGGRIIVTAILLETKFEAMECLRDLGFDVNITELNIARGRALDRGTMMVSRNPVALIYTGVSHENKD',\n",
       "   'MIPDDEFIKNPSVPGPTAMEVRCLIMCLAEPGKNDVAVDVGCGTGGVTLELAGRVRRVYAIDRNPEAISTTEMNLQRHGLGDNVTLMEGDAPEALCKIPDIDIAVVGGSGGELQEILRIIKDKLKPGGRIIVTAILLETKFEAMECLRDLGFDVNITELNIARGRALDRGTMMVSRNPVALIYTGV------'],\n",
       "  ['MIPDDEFIKNPSVPGPTAMEVRCLIMCLAEPGKNDVAVDVGCGTGGVTLELAGRVRRVYAIDRNPEAISTTEMNLQRHGLGDNVTLMEGDAPEALCKIPDIDIAVVGGSGGELQEILRIIKDKLKPGGRIIVTAILLETKFEAMECLRDLGFDVNITELNIARGRALDRGTMMVSRNPVALIYTGVSHENKD',\n",
       "   'MIPDDEFIKNPSVPGPTAMEVRCLIMCLAEPGKNDVAVDVGCGTGGVTLELAGRVRRVYAIDRNPEAISTTEMNLQRHGLGDNVTLMEGDAPEALCKIPDIDIAVVGGSGGELQEILRIIKDKLKPGGRIIVTAILLETKFEAMECLRDLGFDVNITELNIARGRALDRGTMMVSRNPVALIYTGV------']],\n",
       " 'id': '1L3B',\n",
       " 'asmb_chains': ['A,D,E,H,I,L,M,P', 'B,C,F,G,J,K,N,O'],\n",
       " 'asmb_details': ['author_and_software_defined_assembly',\n",
       "  'author_and_software_defined_assembly'],\n",
       " 'asmb_method': ['PISA', 'PISA'],\n",
       " 'asmb_ids': ['1', '2'],\n",
       " 'asmb_xform0': tensor([[[1., 0., 0., 0.],\n",
       "          [0., 1., 0., 0.],\n",
       "          [0., 0., 1., 0.],\n",
       "          [0., 0., 0., 1.]]]),\n",
       " 'asmb_xform1': tensor([[[1., 0., 0., 0.],\n",
       "          [0., 1., 0., 0.],\n",
       "          [0., 0., 1., 0.],\n",
       "          [0., 0., 0., 1.]]]),\n",
       " 'tm': tensor([[[1.0000, 1.0000, 0.0000],\n",
       "          [0.9961, 1.0000, 0.3200],\n",
       "          [0.9906, 1.0000, 0.5000],\n",
       "          [0.9826, 1.0000, 0.6900],\n",
       "          [0.9882, 1.0000, 0.5600],\n",
       "          [0.9706, 1.0000, 0.9100],\n",
       "          [0.9924, 1.0000, 0.4600],\n",
       "          [0.9934, 1.0000, 0.4300]],\n",
       " \n",
       "         [[0.9961, 1.0000, 0.3200],\n",
       "          [1.0000, 1.0000, 0.0000],\n",
       "          [0.9948, 1.0000, 0.3700],\n",
       "          [0.9832, 1.0000, 0.6700],\n",
       "          [0.9923, 1.0000, 0.4500],\n",
       "          [0.9755, 1.0000, 0.8400],\n",
       "          [0.9938, 1.0000, 0.4000],\n",
       "          [0.9938, 1.0000, 0.4100]],\n",
       " \n",
       "         [[0.9906, 1.0000, 0.5000],\n",
       "          [0.9948, 1.0000, 0.3700],\n",
       "          [1.0000, 1.0000, 0.0000],\n",
       "          [0.9840, 1.0000, 0.6600],\n",
       "          [0.9934, 1.0000, 0.4100],\n",
       "          [0.9822, 1.0000, 0.7100],\n",
       "          [0.9915, 1.0000, 0.4700],\n",
       "          [0.9898, 1.0000, 0.5200]],\n",
       " \n",
       "         [[0.9826, 1.0000, 0.6900],\n",
       "          [0.9832, 1.0000, 0.6700],\n",
       "          [0.9840, 1.0000, 0.6600],\n",
       "          [1.0000, 1.0000, 0.0000],\n",
       "          [0.9912, 1.0000, 0.4800],\n",
       "          [0.9649, 1.0000, 1.0100],\n",
       "          [0.9884, 1.0000, 0.5600],\n",
       "          [0.9859, 1.0000, 0.6200]],\n",
       " \n",
       "         [[0.9882, 1.0000, 0.5600],\n",
       "          [0.9923, 1.0000, 0.4500],\n",
       "          [0.9934, 1.0000, 0.4100],\n",
       "          [0.9912, 1.0000, 0.4800],\n",
       "          [1.0000, 1.0000, 0.0000],\n",
       "          [0.9762, 1.0000, 0.8200],\n",
       "          [0.9931, 1.0000, 0.4300],\n",
       "          [0.9910, 1.0000, 0.4900]],\n",
       " \n",
       "         [[0.9706, 1.0000, 0.9100],\n",
       "          [0.9755, 1.0000, 0.8400],\n",
       "          [0.9822, 1.0000, 0.7100],\n",
       "          [0.9649, 1.0000, 1.0100],\n",
       "          [0.9762, 1.0000, 0.8200],\n",
       "          [1.0000, 1.0000, 0.0000],\n",
       "          [0.9693, 1.0000, 0.9400],\n",
       "          [0.9678, 1.0000, 0.9700]],\n",
       " \n",
       "         [[0.9924, 1.0000, 0.4600],\n",
       "          [0.9938, 1.0000, 0.4000],\n",
       "          [0.9915, 1.0000, 0.4700],\n",
       "          [0.9884, 1.0000, 0.5600],\n",
       "          [0.9931, 1.0000, 0.4300],\n",
       "          [0.9693, 1.0000, 0.9400],\n",
       "          [1.0000, 1.0000, 0.0000],\n",
       "          [0.9977, 1.0000, 0.2500]],\n",
       " \n",
       "         [[0.9934, 1.0000, 0.4300],\n",
       "          [0.9938, 1.0000, 0.4100],\n",
       "          [0.9898, 1.0000, 0.5200],\n",
       "          [0.9859, 1.0000, 0.6200],\n",
       "          [0.9910, 1.0000, 0.4900],\n",
       "          [0.9678, 1.0000, 0.9700],\n",
       "          [0.9977, 1.0000, 0.2500],\n",
       "          [1.0000, 1.0000, 0.0000]]])}"
      ]
     },
     "execution_count": 126,
     "metadata": {},
     "output_type": "execute_result"
    }
   ],
   "source": [
    "meta"
   ]
  },
  {
   "cell_type": "code",
   "execution_count": null,
   "metadata": {},
   "outputs": [
    {
     "name": "stdout",
     "output_type": "stream",
     "text": [
      "1\n",
      "['A', 'D', 'E', 'H']\n",
      "A\n",
      "tensor([[[ 21.6800, -16.4960, 158.8530],\n",
      "         [ 21.5690, -15.1810, 159.5550],\n",
      "         [ 21.2360, -15.3720, 161.0360],\n",
      "         ...,\n",
      "         [     nan,      nan,      nan],\n",
      "         [     nan,      nan,      nan],\n",
      "         [     nan,      nan,      nan]],\n",
      "\n",
      "        [[ 21.9540, -14.6640, 161.9010],\n",
      "         [ 21.7230, -14.7760, 163.3330],\n",
      "         [ 20.2810, -14.4710, 163.7110],\n",
      "         ...,\n",
      "         [     nan,      nan,      nan],\n",
      "         [     nan,      nan,      nan],\n",
      "         [     nan,      nan,      nan]],\n",
      "\n",
      "        [[ 19.5770, -15.4610, 164.2760],\n",
      "         [ 18.1870, -15.2170, 164.6650],\n",
      "         [ 18.0800, -14.2410, 165.8450],\n",
      "         ...,\n",
      "         [     nan,      nan,      nan],\n",
      "         [     nan,      nan,      nan],\n",
      "         [     nan,      nan,      nan]],\n",
      "\n",
      "        ...,\n",
      "\n",
      "        [[     nan,      nan,      nan],\n",
      "         [     nan,      nan,      nan],\n",
      "         [     nan,      nan,      nan],\n",
      "         ...,\n",
      "         [     nan,      nan,      nan],\n",
      "         [     nan,      nan,      nan],\n",
      "         [     nan,      nan,      nan]],\n",
      "\n",
      "        [[     nan,      nan,      nan],\n",
      "         [     nan,      nan,      nan],\n",
      "         [     nan,      nan,      nan],\n",
      "         ...,\n",
      "         [     nan,      nan,      nan],\n",
      "         [     nan,      nan,      nan],\n",
      "         [     nan,      nan,      nan]],\n",
      "\n",
      "        [[     nan,      nan,      nan],\n",
      "         [     nan,      nan,      nan],\n",
      "         [     nan,      nan,      nan],\n",
      "         ...,\n",
      "         [     nan,      nan,      nan],\n",
      "         [     nan,      nan,      nan],\n",
      "         [     nan,      nan,      nan]]])\n"
     ]
    },
    {
     "name": "stderr",
     "output_type": "stream",
     "text": [
      "/var/folders/95/40g56m011614lbl69wt_5llc0000gn/T/ipykernel_14584/2925260667.py:18: FutureWarning: You are using `torch.load` with `weights_only=False` (the current default value), which uses the default pickle module implicitly. It is possible to construct malicious pickle data which will execute arbitrary code during unpickling (See https://github.com/pytorch/pytorch/blob/main/SECURITY.md#untrusted-models for more details). In a future release, the default value for `weights_only` will be flipped to `True`. This limits the functions that could be executed during unpickling. Arbitrary objects will no longer be allowed to be loaded via this mode unless they are explicitly allowlisted by the user via `torch.serialization.add_safe_globals`. We recommend you start setting `weights_only=True` for any use case where you don't have full control of the loaded file. Please open an issue on GitHub for any issues related to this experimental feature.\n",
      "  meta = torch.load(structure_metadata_path)\n",
      "/var/folders/95/40g56m011614lbl69wt_5llc0000gn/T/ipykernel_14584/2925260667.py:9: FutureWarning: You are using `torch.load` with `weights_only=False` (the current default value), which uses the default pickle module implicitly. It is possible to construct malicious pickle data which will execute arbitrary code during unpickling (See https://github.com/pytorch/pytorch/blob/main/SECURITY.md#untrusted-models for more details). In a future release, the default value for `weights_only` will be flipped to `True`. This limits the functions that could be executed during unpickling. Arbitrary objects will no longer be allowed to be loaded via this mode unless they are explicitly allowlisted by the user via `torch.serialization.add_safe_globals`. We recommend you start setting `weights_only=True` for any use case where you don't have full control of the loaded file. Please open an issue on GitHub for any issues related to this experimental feature.\n",
      "  data = torch.load(path)\n"
     ]
    }
   ],
   "source": [
    "\n",
    "cached_chain_data = {}\n",
    "def load_chain_data(pdb_id, chain_id):\n",
    "\n",
    "    key = f'{pdb_id}_{chain_id}'\n",
    "    if key in cached_chain_data:\n",
    "        return cached_chain_data[key]\n",
    "\n",
    "    path = f'{data_path}/pdb/l3/{pdb_id}_{chain_id}.pt'\n",
    "    data = torch.load(path)\n",
    "\n",
    "    cached_chain_data[key] = data\n",
    "    return data\n",
    "\n",
    "\n",
    "pdb_id = '1l3b'\n",
    "structure_metadata_path = f'{data_path}/pdb/l3/{pdb_id}.pt'\n",
    "\n",
    "meta = torch.load(structure_metadata_path)\n",
    "assembly_ids = meta['asmb_ids']\n",
    "assembly_chains = meta['asmb_chains']\n",
    "chain_ids = meta['chains']\n",
    "\n",
    "chain_id = 'A'\n",
    "\n",
    "for assembly_index, asembly_id in enumerate(assembly_ids):\n",
    "    chains = []\n",
    "    assembly_chains = assembly_chains[assembly_index].split(',')\n",
    "    for c in assembly_chains:\n",
    "        if c in meta['chains']:\n",
    "            chains.append(c)\n",
    "\n",
    "    if chain_id not in chains:\n",
    "        continue\n",
    "\n",
    "    print(asembly_id)\n",
    "    print(chains)\n",
    "\n",
    "    # asmb_xformIDX  - (one per biounit) xforms to be applied to chains from asmb_chains[IDX], [n,4,4]\n",
    "    # [n,:3,:3] - rotation matrices\n",
    "    # [n,3,:3] - translation vectors\n",
    "    xform = meta[f'asmb_xform{assembly_index}']\n",
    "    rotation_matrix_u = xform[:,:3,:3]\n",
    "    translation_matrix_r = xform[:,:3,3]\n",
    "\n",
    "    chain_data = {}\n",
    "    for chain in chains:\n",
    "        print(chain)\n",
    "        chain_details = load_chain_data(pdb_id, chain)\n",
    "        chain_data[chain] = chain_details\n",
    "\n",
    "        xyz = chain_details['xyz']\n",
    "        xyz_ru = torch.einsum('bij,raj->brai', rotation_matrix_u, xyz) + translation_matrix_r[:,None,None,:]\n",
    "\n",
    "        print(xyz)\n"
   ]
  },
  {
   "cell_type": "code",
   "execution_count": 104,
   "metadata": {},
   "outputs": [
    {
     "data": {
      "text/plain": [
       "array(['A'], dtype='<U1')"
      ]
     },
     "execution_count": 104,
     "metadata": {},
     "output_type": "execute_result"
    }
   ],
   "source": [
    "chids = np.array(meta['chains'])\n",
    "chids[chids == 'A']"
   ]
  },
  {
   "cell_type": "code",
   "execution_count": null,
   "metadata": {},
   "outputs": [],
   "source": []
  },
  {
   "cell_type": "code",
   "execution_count": null,
   "metadata": {},
   "outputs": [
    {
     "data": {
      "text/plain": [
       "tensor([1., 1., 1., 1., 1., 1., 1., 1.])"
      ]
     },
     "execution_count": 111,
     "metadata": {},
     "output_type": "execute_result"
    }
   ],
   "source": [
    "seqid = meta['tm'][chids=='A'][0,:,1]\n",
    "seqid\n",
    "\n",
    "homo = set([\n",
    "    ch_j\n",
    "    for seqid_j,ch_j in zip(seqid,chids)\n",
    "    if seqid_j>params['HOMO']\n",
    "])"
   ]
  },
  {
   "cell_type": "code",
   "execution_count": null,
   "metadata": {},
   "outputs": [
    {
     "data": {
      "text/plain": [
       "{(tensor(1.), np.str_('A')),\n",
       " (tensor(1.), np.str_('B')),\n",
       " (tensor(1.), np.str_('C')),\n",
       " (tensor(1.), np.str_('D')),\n",
       " (tensor(1.), np.str_('E')),\n",
       " (tensor(1.), np.str_('F')),\n",
       " (tensor(1.), np.str_('G')),\n",
       " (tensor(1.), np.str_('H'))}"
      ]
     },
     "execution_count": 115,
     "metadata": {},
     "output_type": "execute_result"
    }
   ],
   "source": [
    "seqid = meta['tm'][chids==chid][0,:,1]\n",
    "homo = set([\n",
    "    seqid_j, ch_j for seqid_j,ch_j in zip(seqid,chids)\n",
    "    if seqid_j>.70 #params['HOMO']\n",
    "])\n",
    "homo"
   ]
  },
  {
   "cell_type": "code",
   "execution_count": 6,
   "metadata": {},
   "outputs": [],
   "source": [
    "import sys\n",
    "sys.path.append('../')\n",
    "\n",
    "from russell_protein.protein_mpnn.dataset import load_assembly_from_pdb_id_containing_chain"
   ]
  },
  {
   "cell_type": "code",
   "execution_count": 12,
   "metadata": {},
   "outputs": [
    {
     "data": {
      "text/plain": [
       "'../russell_protein/protein_mpnn/tests/fixtures/pdb_2021aug02_sample'"
      ]
     },
     "execution_count": 12,
     "metadata": {},
     "output_type": "execute_result"
    }
   ],
   "source": [
    "data_path = '../russell_protein/protein_mpnn/tests/fixtures/pdb_2021aug02_sample'\n",
    "data_path"
   ]
  },
  {
   "cell_type": "code",
   "execution_count": 1,
   "metadata": {},
   "outputs": [
    {
     "ename": "NameError",
     "evalue": "name 'load_assembly_from_pdb_id_containing_chain' is not defined",
     "output_type": "error",
     "traceback": [
      "\u001b[0;31m---------------------------------------------------------------------------\u001b[0m",
      "\u001b[0;31mNameError\u001b[0m                                 Traceback (most recent call last)",
      "Cell \u001b[0;32mIn[1], line 1\u001b[0m\n\u001b[0;32m----> 1\u001b[0m asm \u001b[38;5;241m=\u001b[39m \u001b[43mload_assembly_from_pdb_id_containing_chain\u001b[49m(\n\u001b[1;32m      2\u001b[0m     \u001b[38;5;124m'\u001b[39m\u001b[38;5;124m1l3a\u001b[39m\u001b[38;5;124m'\u001b[39m,\n\u001b[1;32m      3\u001b[0m     \u001b[38;5;124m'\u001b[39m\u001b[38;5;124mA\u001b[39m\u001b[38;5;124m'\u001b[39m,\n\u001b[1;32m      4\u001b[0m     data_path,\n\u001b[1;32m      5\u001b[0m     \u001b[38;5;241m.90\u001b[39m\n\u001b[1;32m      6\u001b[0m )\n",
      "\u001b[0;31mNameError\u001b[0m: name 'load_assembly_from_pdb_id_containing_chain' is not defined"
     ]
    }
   ],
   "source": [
    "asm = load_assembly_from_pdb_id_containing_chain(\n",
    "    '1l3a',\n",
    "    'A',\n",
    "    data_path,\n",
    "    .90\n",
    ")"
   ]
  },
  {
   "cell_type": "code",
   "execution_count": 34,
   "metadata": {},
   "outputs": [
    {
     "data": {
      "text/plain": [
       "dict_keys(['seq', 'seq_list', 'xyz', 'idx', 'masked', 'label'])"
      ]
     },
     "execution_count": 34,
     "metadata": {},
     "output_type": "execute_result"
    }
   ],
   "source": [
    "asm[0].keys()"
   ]
  },
  {
   "cell_type": "code",
   "execution_count": 38,
   "metadata": {},
   "outputs": [
    {
     "data": {
      "text/plain": [
       "[227, 227, 227, 227]"
      ]
     },
     "execution_count": 38,
     "metadata": {},
     "output_type": "execute_result"
    }
   ],
   "source": [
    "[\n",
    "    len(x) for x in asm[0]['seq_list']\n",
    "]"
   ]
  },
  {
   "cell_type": "code",
   "execution_count": 48,
   "metadata": {},
   "outputs": [
    {
     "data": {
      "text/plain": [
       "tensor([0, 1, 2, 3], dtype=torch.int32)"
      ]
     },
     "execution_count": 48,
     "metadata": {},
     "output_type": "execute_result"
    }
   ],
   "source": [
    "asm[0]['masked']"
   ]
  },
  {
   "cell_type": "code",
   "execution_count": 144,
   "metadata": {},
   "outputs": [
    {
     "data": {
      "text/plain": [
       "tensor([1., 1., 1., 1., 1., 1., 1., 1.])"
      ]
     },
     "execution_count": 144,
     "metadata": {},
     "output_type": "execute_result"
    }
   ],
   "source": [
    "meta['tm'][chids=='A'][0,:,1]"
   ]
  },
  {
   "cell_type": "code",
   "execution_count": 148,
   "metadata": {},
   "outputs": [
    {
     "data": {
      "text/plain": [
       "tensor([1., 1., 1., 1., 1., 1., 1., 1.])"
      ]
     },
     "execution_count": 148,
     "metadata": {},
     "output_type": "execute_result"
    }
   ],
   "source": [
    "meta['tm'][5,:,1]"
   ]
  },
  {
   "cell_type": "code",
   "execution_count": null,
   "metadata": {},
   "outputs": [],
   "source": []
  }
 ],
 "metadata": {
  "kernelspec": {
   "display_name": "Python 3",
   "language": "python",
   "name": "python3"
  },
  "language_info": {
   "codemirror_mode": {
    "name": "ipython",
    "version": 3
   },
   "file_extension": ".py",
   "mimetype": "text/x-python",
   "name": "python",
   "nbconvert_exporter": "python",
   "pygments_lexer": "ipython3",
   "version": "3.11.11"
  }
 },
 "nbformat": 4,
 "nbformat_minor": 2
}
